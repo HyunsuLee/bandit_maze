{
 "cells": [
  {
   "cell_type": "code",
   "execution_count": 1,
   "metadata": {},
   "outputs": [
    {
     "name": "stderr",
     "output_type": "stream",
     "text": [
      "WARNING (theano.tensor.blas): Using NumPy C-API based implementation for BLAS functions.\n"
     ]
    }
   ],
   "source": [
    "import lib.bandits as bd"
   ]
  },
  {
   "cell_type": "code",
   "execution_count": 2,
   "metadata": {},
   "outputs": [],
   "source": [
    "GB = bd.GaussianBandit(2)"
   ]
  },
  {
   "cell_type": "code",
   "execution_count": 3,
   "metadata": {},
   "outputs": [],
   "source": [
    "GB.reset()"
   ]
  },
  {
   "cell_type": "code",
   "execution_count": 4,
   "metadata": {},
   "outputs": [
    {
     "data": {
      "text/plain": [
       "array([ 1.1127434 , -1.32494705])"
      ]
     },
     "execution_count": 4,
     "metadata": {},
     "output_type": "execute_result"
    }
   ],
   "source": [
    "GB.action_values"
   ]
  },
  {
   "cell_type": "code",
   "execution_count": 5,
   "metadata": {},
   "outputs": [
    {
     "name": "stdout",
     "output_type": "stream",
     "text": [
      "(2.0128587236436957, True)\n",
      "(0.8793329997643535, False)\n"
     ]
    }
   ],
   "source": [
    "print(GB.pull(0))\n",
    "print(GB.pull(1))"
   ]
  },
  {
   "cell_type": "code",
   "execution_count": 6,
   "metadata": {},
   "outputs": [],
   "source": [
    "import numpy as np"
   ]
  },
  {
   "cell_type": "code",
   "execution_count": 7,
   "metadata": {},
   "outputs": [
    {
     "data": {
      "text/plain": [
       "array([ 0.08892022, -0.64558701,  0.16857651,  1.05854964, -0.40455006,\n",
       "       -1.21800367,  1.34346101, -1.88240801,  0.00344474,  2.00824468])"
      ]
     },
     "execution_count": 7,
     "metadata": {},
     "output_type": "execute_result"
    }
   ],
   "source": [
    "mean = 0\n",
    "sigma = 1\n",
    "n_sample = 10\n",
    "np.random.normal(mean, sigma, n_sample)\n"
   ]
  },
  {
   "cell_type": "code",
   "execution_count": 8,
   "metadata": {},
   "outputs": [],
   "source": [
    "n_bandit_arm = 10\n",
    "samples_of_each_arm = 100\n",
    "BB = bd.BinomialBandit(n_bandit_arm, samples_of_each_arm)"
   ]
  },
  {
   "cell_type": "code",
   "execution_count": 9,
   "metadata": {},
   "outputs": [],
   "source": [
    "BB.reset()"
   ]
  },
  {
   "cell_type": "code",
   "execution_count": 10,
   "metadata": {},
   "outputs": [
    {
     "data": {
      "text/plain": [
       "array([0.37407236, 0.53688517, 0.63911407, 0.75642745, 0.59010949,\n",
       "       0.33567173, 0.55371907, 0.96709678, 0.78011392, 0.15306436])"
      ]
     },
     "execution_count": 10,
     "metadata": {},
     "output_type": "execute_result"
    }
   ],
   "source": [
    "BB.action_values\n",
    "# p behind the binomial bandit"
   ]
  },
  {
   "cell_type": "code",
   "execution_count": 11,
   "metadata": {},
   "outputs": [
    {
     "data": {
      "text/plain": [
       "array([ 46,  45,  58,  76,  53,  31,  46, 100,  76,  18])"
      ]
     },
     "execution_count": 11,
     "metadata": {},
     "output_type": "execute_result"
    }
   ],
   "source": [
    "BB.sample\n",
    "# simulated result according to  above p"
   ]
  },
  {
   "cell_type": "code",
   "execution_count": 12,
   "metadata": {},
   "outputs": [
    {
     "data": {
      "text/plain": [
       "(59, False)"
      ]
     },
     "execution_count": 12,
     "metadata": {},
     "output_type": "execute_result"
    }
   ],
   "source": [
    "BB.pull(1) # when you pull binomial bandit \n",
    "# it produce simulated result over N trial"
   ]
  },
  {
   "cell_type": "code",
   "execution_count": 13,
   "metadata": {},
   "outputs": [
    {
     "name": "stdout",
     "output_type": "stream",
     "text": [
      "[72.30175827]\n"
     ]
    }
   ],
   "source": [
    "print(np.random.uniform(size=1)*100)"
   ]
  },
  {
   "cell_type": "code",
   "execution_count": 14,
   "metadata": {},
   "outputs": [],
   "source": [
    "PB = bd.PowerBandit(1)"
   ]
  },
  {
   "cell_type": "code",
   "execution_count": 15,
   "metadata": {},
   "outputs": [],
   "source": [
    "n_trial = 10\n",
    "result = []\n",
    "for trial in range(n_trial):\n",
    "    result.append(PB.pull())"
   ]
  },
  {
   "cell_type": "code",
   "execution_count": 16,
   "metadata": {},
   "outputs": [
    {
     "data": {
      "text/plain": [
       "2"
      ]
     },
     "execution_count": 16,
     "metadata": {},
     "output_type": "execute_result"
    }
   ],
   "source": [
    "result = np.array(result)\n",
    "result.sum()"
   ]
  },
  {
   "cell_type": "code",
   "execution_count": 27,
   "metadata": {},
   "outputs": [
    {
     "data": {
      "text/plain": [
       "(array([0., 0., 0., 0., 0.]),\n",
       " array([   4,   10,   25,   50,  100, 1000]),\n",
       " <BarContainer object of 5 artists>)"
      ]
     },
     "execution_count": 27,
     "metadata": {},
     "output_type": "execute_result"
    },
    {
     "data": {
      "image/png": "[encoded data removed]",
      "text/plain": [
       "<Figure size 432x288 with 1 Axes>"
      ]
     },
     "metadata": {
      "needs_background": "light"
     },
     "output_type": "display_data"
    }
   ],
   "source": [
    "import matplotlib.pyplot as plt\n",
    "bin = np.array([4, 10, 25, 50, 100, 1000])\n",
    "plt.hist(result, bin)"
   ]
  },
  {
   "cell_type": "code",
   "execution_count": 18,
   "metadata": {},
   "outputs": [],
   "source": [
    "import lib.env as env"
   ]
  },
  {
   "cell_type": "code",
   "execution_count": 19,
   "metadata": {},
   "outputs": [],
   "source": [
    "bm = env.BanditMaze()"
   ]
  },
  {
   "cell_type": "code",
   "execution_count": 20,
   "metadata": {},
   "outputs": [],
   "source": [
    "bm.reset()"
   ]
  },
  {
   "cell_type": "code",
   "execution_count": 21,
   "metadata": {},
   "outputs": [
    {
     "data": {
      "text/plain": [
       "[0, 1]"
      ]
     },
     "execution_count": 21,
     "metadata": {},
     "output_type": "execute_result"
    }
   ],
   "source": [
    "bm.all_positions"
   ]
  },
  {
   "cell_type": "code",
   "execution_count": 22,
   "metadata": {},
   "outputs": [],
   "source": [
    "import lib.exp as exp"
   ]
  },
  {
   "cell_type": "code",
   "execution_count": 23,
   "metadata": {},
   "outputs": [
    {
     "name": "stderr",
     "output_type": "stream",
     "text": [
      "episodes: 100%|██████████| 1000/1000 [00:00<00:00, 14182.79it/s]\n"
     ]
    }
   ],
   "source": [
    "steps, rewards, Q = exp.QL(episodes=1000)"
   ]
  },
  {
   "cell_type": "code",
   "execution_count": 24,
   "metadata": {},
   "outputs": [
    {
     "name": "stdout",
     "output_type": "stream",
     "text": [
      "[0, 1, 0, 0, 0, 0, 2, 2, 1, 2, 5, 7, 6, 0, 2, 13, 14, 2, 7, 12, 2, 24, 14, 27, 9, 11, 0, 8, 7, 40, 28, 14, 19, 12, 7, 3, 14, 5, 20, 23, 0, 2, 18, 39, 7, 16, 44, 5, 19, 5, 9, 38, 8, 20, 20, 10, 18, 14, 73, 4, 1, 1, 33, 5, 2, 3, 25, 7, 12, 12, 7, 43, 4, 15, 12, 21, 49, 0, 4, 0, 0, 0, 0, 0, 0, 0, 0, 0, 0, 0, 0, 0, 0, 0, 0, 0, 1, 0, 0, 1, 0, 0, 0, 0, 0, 0, 0, 0, 0, 0, 0, 0, 0, 0, 1, 0, 0, 0, 0, 0, 0, 0, 0, 0, 0, 0, 0, 0, 0, 0, 0, 0, 0, 0, 0, 0, 0, 0, 0, 0, 1, 0, 0, 0, 0, 0, 0, 0, 0, 0, 0, 0, 0, 0, 0, 0, 0, 0, 0, 0, 0, 0, 0, 0, 0, 0, 0, 0, 0, 0, 0, 0, 0, 0, 0, 0, 0, 0, 0, 0, 0, 1, 0, 0, 0, 0, 0, 0, 0, 0, 0, 1, 0, 0, 1, 0, 0, 0, 0, 0, 0, 0, 0, 0, 0, 0, 0, 0, 0, 0, 0, 0, 0, 0, 0, 1, 1, 0, 0, 0, 0, 0, 0, 0, 0, 0, 0, 0, 0, 0, 0, 1, 0, 0, 0, 0, 0, 0, 0, 0, 0, 0, 0, 0, 0, 0, 0, 0, 0, 0, 0, 0, 0, 0, 0, 0, 0, 0, 0, 0, 0, 0, 0, 0, 0, 0, 0, 0, 0, 0, 0, 0, 0, 1, 1, 0, 0, 0, 0, 0, 0, 0, 0, 0, 0, 0, 0, 0, 0, 0, 0, 0, 0, 0, 0, 0, 0, 0, 0, 0, 0, 0, 0, 0, 0, 0, 0, 1, 0, 0, 0, 0, 0, 0, 0, 0, 0, 0, 0, 0, 0, 0, 0, 0, 0, 0, 0, 0, 0, 0, 0, 0, 0, 0, 0, 0, 0, 0, 0, 0, 0, 0, 0, 0, 0, 0, 0, 0, 0, 0, 0, 0, 0, 0, 0, 0, 0, 0, 0, 0, 1, 0, 0, 0, 0, 0, 0, 0, 0, 0, 0, 0, 0, 0, 0, 0, 0, 0, 0, 0, 0, 0, 0, 0, 0, 0, 0, 0, 0, 0, 0, 0, 0, 0, 0, 0, 0, 0, 0, 0, 0, 0, 0, 0, 0, 1, 0, 0, 0, 0, 0, 0, 0, 0, 0, 0, 0, 0, 0, 0, 0, 0, 0, 0, 0, 0, 0, 0, 0, 0, 0, 0, 0, 0, 0, 0, 0, 0, 0, 0, 0, 0, 0, 3, 0, 0, 0, 0, 0, 0, 0, 0, 0, 0, 0, 0, 0, 0, 0, 0, 0, 0, 0, 0, 0, 0, 0, 0, 0, 0, 0, 0, 0, 0, 0, 0, 0, 1, 1, 0, 0, 0, 0, 0, 0, 0, 0, 0, 0, 0, 0, 0, 0, 0, 0, 0, 0, 0, 0, 0]\n"
     ]
    }
   ],
   "source": [
    "print(steps[:500])"
   ]
  },
  {
   "cell_type": "code",
   "execution_count": 25,
   "metadata": {},
   "outputs": [
    {
     "name": "stdout",
     "output_type": "stream",
     "text": [
      "[-20, -21, -20, -20, -20, -20, -22, -12, -21, -22, -25, -27, -22, -20, -22, -33, -18, -22, 2, -16, -22, -30, -8, -33, -25, -23, -20, -24, -9, -38, -15, -8, -10, -24, -27, -19, -34, -17, -36, -25, -20, -22, -38, -27, -27, -14, -34, -21, -17, -21, -25, -22, -10, -36, -32, -16, -20, -26, 28, -24, -21, -21, -31, -17, -18, -23, -37, -23, -22, -24, -23, -51, -20, -35, -32, -25, -41, -20, -24, -20, -20, -20, -20, -20, -20, -20, -20, -20, -20, -20, -20, -20, -20, -20, -20, -20, -21, -20, -20, -21, -20, -20, -20, -20, -20, -20, -20, -20, -20, -20, -20, -20, -20, -20, -21, -20, -20, -20, -20, -20, -20, -20, -20, -20, -20, -20, -20, -20, -20, -20, -20, -20, -20, -20, -20, -20, -20, -20, -20, -20, -21, -20, -20, -20, -20, -20, -20, -20, -20, -20, -20, -20, -20, -20, -20, -20, -20, -20, -20, -20, -20, -20, -20, -20, -20, -20, -20, -20, -20, -20, -20, -20, -20, -20, -20, -20, -20, -20, -20, -20, -20, -21, -20, -20, -20, -20, -20, -20, -20, -20, -20, -21, -20, -20, -21, -20, -20, -20, -20, -20, -20, -20, -20, -20, -20, -20, -20, -20, -20, -20, -20, -20, -20, -20, -20, -21, -21, -20, -20, -20, -20, -20, -20, -20, -20, -20, -20, -20, -20, -20, -20, -21, -20, -20, -20, -20, -20, -20, -20, -20, -20, -20, -20, -20, -20, -20, -20, -20, -20, -20, -20, -20, -20, -20, -20, -20, -20, -20, -20, -20, -20, -20, -20, -20, -20, -20, -20, -20, -20, -20, -20, -20, -20, -21, -21, -20, -20, -20, -20, -20, -20, -20, -20, -20, -20, -20, -20, -20, -20, -20, -20, -20, -20, -20, -20, -20, -20, -20, -20, -20, -20, -20, -20, -20, -20, -20, -20, -21, -20, -20, -20, -20, -20, -20, -20, -20, -20, -20, -20, -20, -20, -20, -20, -20, -20, -20, -20, -20, -20, -20, -20, -20, -20, -20, -20, -20, -20, -20, -20, -20, -20, -20, -20, -20, -20, -20, -20, -20, -20, -20, -20, -20, -20, -20, -20, -20, -20, -20, -20, -20, -21, -20, -20, -20, -20, -20, -20, -20, -20, -20, -20, -20, -20, -20, -20, -20, -20, -20, -20, -20, -20, -20, -20, -20, -20, -20, -20, -20, -20, -20, -20, -20, -20, -20, -20, -20, -20, -20, -20, -20, -20, -20, -20, -20, -20, -21, -20, -20, -20, -20, -20, -20, -20, -20, -20, -20, -20, -20, -20, -20, -20, -20, -20, -20, -20, -20, -20, -20, -20, -20, -20, -20, -20, -20, -20, -20, -20, -20, -20, -20, -20, -20, -20, -13, -20, -20, -20, -20, -20, -20, -20, -20, -20, -20, -20, -20, -20, -20, -20, -20, -20, -20, -20, -20, -20, -20, -20, -20, -20, -20, -20, -20, -20, -20, -20, -20, -20, -21, -21, -20, -20, -20, -20, -20, -20, -20, -20, -20, -20, -20, -20, -20, -20, -20, -20, -20, -20, -20, -20, -20]\n"
     ]
    }
   ],
   "source": [
    "print(rewards[:500])"
   ]
  },
  {
   "cell_type": "code",
   "execution_count": 26,
   "metadata": {},
   "outputs": [
    {
     "name": "stdout",
     "output_type": "stream",
     "text": [
      "[array([[  0.        ,   0.        ],\n",
      "       [-19.90723205,  -9.4       ]]), array([[  0.        ,   0.        ],\n",
      "       [-19.91650884,  -9.6       ]]), array([[  0.        ,   0.        ],\n",
      "       [-19.92485796,  -8.6       ]]), array([[  0.        ,   0.        ],\n",
      "       [-19.93237216, -10.2       ]]), array([[  0.        ,   0.        ],\n",
      "       [-19.93913495, -11.4       ]]), array([[  0.        ,   0.        ],\n",
      "       [-19.94522145, -11.        ]]), array([[  0.        ,   0.        ],\n",
      "       [-19.95069931, -11.        ]]), array([[  0.        ,   0.        ],\n",
      "       [-19.95562938, -11.6       ]]), array([[  0.        ,   0.        ],\n",
      "       [-19.96006644,  -6.8       ]]), array([[  0.        ,   0.        ],\n",
      "       [-19.96405979,  -7.2       ]]), array([[  0.        ,   0.        ],\n",
      "       [-19.96765381,  -7.3       ]]), array([[  0.        ,   0.        ],\n",
      "       [-19.97088843,  -7.4       ]]), array([[  0.        ,   0.        ],\n",
      "       [-19.97379959,  -8.5       ]]), array([[  0.        ,   0.        ],\n",
      "       [-19.97641963,  -8.2       ]]), array([[  0.        ,   0.        ],\n",
      "       [-19.97877767,  -8.        ]]), array([[  0.       ,   0.       ],\n",
      "       [-19.9808999,  -8.3      ]]), array([[  0.        ,   0.        ],\n",
      "       [-19.98280991, -10.        ]]), array([[  0.        ,   0.        ],\n",
      "       [-19.98452892, -10.3       ]]), array([[  0.        ,   0.        ],\n",
      "       [-19.98607603, -10.5       ]]), array([[  0.        ,   0.        ],\n",
      "       [-19.98746843, -10.9       ]]), array([[  0.        ,   0.        ],\n",
      "       [-19.98872158, -11.2       ]]), array([[  0.        ,   0.        ],\n",
      "       [-19.98984942, -14.3       ]]), array([[  0.        ,   0.        ],\n",
      "       [-19.99086448, -14.3       ]]), array([[  0.        ,   0.        ],\n",
      "       [-19.99177803, -15.8       ]]), array([[  0.        ,   0.        ],\n",
      "       [-19.99260023, -17.        ]]), array([[  0.        ,   0.        ],\n",
      "       [-19.99334021, -17.5       ]]), array([[  0.        ,   0.        ],\n",
      "       [-19.99400619, -19.6       ]]), array([[  0.        ,   0.        ],\n",
      "       [-19.99460557, -19.6       ]]), array([[  0.        ,   0.        ],\n",
      "       [-19.99514501, -20.        ]]), array([[  0.        ,   0.        ],\n",
      "       [-19.99563051, -20.        ]]), array([[  0.        ,   0.        ],\n",
      "       [-19.99606746, -20.        ]]), array([[  0.        ,   0.        ],\n",
      "       [-19.99646071, -20.        ]]), array([[  0.        ,   0.        ],\n",
      "       [-19.99681464, -20.        ]]), array([[  0.        ,   0.        ],\n",
      "       [-19.99713318, -20.        ]]), array([[  0.        ,   0.        ],\n",
      "       [-19.99741986, -20.        ]]), array([[  0.        ,   0.        ],\n",
      "       [-19.99767787, -20.        ]]), array([[  0.        ,   0.        ],\n",
      "       [-19.99791009, -20.        ]]), array([[  0.        ,   0.        ],\n",
      "       [-19.99811908, -20.        ]]), array([[  0.        ,   0.        ],\n",
      "       [-19.99830717, -20.        ]]), array([[  0.        ,   0.        ],\n",
      "       [-19.99847645, -20.        ]]), array([[  0.        ,   0.        ],\n",
      "       [-19.99862881, -20.        ]]), array([[  0.        ,   0.        ],\n",
      "       [-19.99876593, -20.        ]]), array([[  0.        ,   0.        ],\n",
      "       [-19.99888933, -20.        ]]), array([[  0.       ,   0.       ],\n",
      "       [-19.9990004, -20.       ]]), array([[  0.        ,   0.        ],\n",
      "       [-19.99910036, -20.        ]]), array([[  0.        ,   0.        ],\n",
      "       [-19.99919032, -20.        ]]), array([[  0.        ,   0.        ],\n",
      "       [-19.99927129, -20.09991903]]), array([[  0.        ,   0.        ],\n",
      "       [-19.99934416, -20.09991903]]), array([[  0.        ,   0.        ],\n",
      "       [-19.99940975, -20.09991903]]), array([[  0.        ,   0.        ],\n",
      "       [-19.99946877, -20.1898681 ]])]\n"
     ]
    }
   ],
   "source": [
    "print(Q[50:100])"
   ]
  }
 ],
 "metadata": {
  "interpreter": {
   "hash": "1b404ea9cc11fb42e02ae2837a6795607dec294b758acd70070f5a7ed62eaa6c"
  },
  "kernelspec": {
   "display_name": "Python 3.9.6 64-bit ('bayes': conda)",
   "language": "python",
   "name": "python3"
  },
  "language_info": {
   "codemirror_mode": {
    "name": "ipython",
    "version": 3
   },
   "file_extension": ".py",
   "mimetype": "text/x-python",
   "name": "python",
   "nbconvert_exporter": "python",
   "pygments_lexer": "ipython3",
   "version": "3.9.6"
  },
  "orig_nbformat": 4
 },
 "nbformat": 4,
 "nbformat_minor": 2
}
