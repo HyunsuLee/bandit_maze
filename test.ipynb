{
 "cells": [
  {
   "cell_type": "code",
   "execution_count": 1,
   "metadata": {},
   "outputs": [
    {
     "name": "stderr",
     "output_type": "stream",
     "text": [
      "WARNING (theano.tensor.blas): Using NumPy C-API based implementation for BLAS functions.\n"
     ]
    }
   ],
   "source": [
    "import bandits as bd"
   ]
  },
  {
   "cell_type": "code",
   "execution_count": 2,
   "metadata": {},
   "outputs": [],
   "source": [
    "GB = bd.GaussianBandit(2)"
   ]
  },
  {
   "cell_type": "code",
   "execution_count": 3,
   "metadata": {},
   "outputs": [],
   "source": [
    "GB.reset()"
   ]
  },
  {
   "cell_type": "code",
   "execution_count": 4,
   "metadata": {},
   "outputs": [
    {
     "data": {
      "text/plain": [
       "array([ 1.62222189, -0.14077146])"
      ]
     },
     "execution_count": 4,
     "metadata": {},
     "output_type": "execute_result"
    }
   ],
   "source": [
    "GB.action_values"
   ]
  },
  {
   "cell_type": "code",
   "execution_count": 5,
   "metadata": {},
   "outputs": [
    {
     "name": "stdout",
     "output_type": "stream",
     "text": [
      "(0.9330855296703041, True)\n",
      "(-0.42829618402218445, False)\n"
     ]
    }
   ],
   "source": [
    "print(GB.pull(0))\n",
    "print(GB.pull(1))"
   ]
  },
  {
   "cell_type": "code",
   "execution_count": 6,
   "metadata": {},
   "outputs": [],
   "source": [
    "import numpy as np"
   ]
  },
  {
   "cell_type": "code",
   "execution_count": 7,
   "metadata": {},
   "outputs": [
    {
     "data": {
      "text/plain": [
       "array([-0.33617829, -0.91003399, -0.85947374, -1.14490801, -0.10203156,\n",
       "        1.15017383,  0.31544032,  0.13632731,  0.06282522, -0.0144272 ])"
      ]
     },
     "execution_count": 7,
     "metadata": {},
     "output_type": "execute_result"
    }
   ],
   "source": [
    "mean = 0\n",
    "sigma = 1\n",
    "n_sample = 10\n",
    "np.random.normal(mean, sigma, n_sample)\n"
   ]
  },
  {
   "cell_type": "code",
   "execution_count": 8,
   "metadata": {},
   "outputs": [],
   "source": [
    "n_bandit_arm = 10\n",
    "samples_of_each_arm = 100\n",
    "BB = bd.BinomialBandit(n_bandit_arm, samples_of_each_arm)"
   ]
  },
  {
   "cell_type": "code",
   "execution_count": 9,
   "metadata": {},
   "outputs": [],
   "source": [
    "BB.reset()"
   ]
  },
  {
   "cell_type": "code",
   "execution_count": 10,
   "metadata": {},
   "outputs": [
    {
     "data": {
      "text/plain": [
       "array([0.48822857, 0.73819474, 0.27217584, 0.64214214, 0.66081966,\n",
       "       0.18238039, 0.00461044, 0.95340822, 0.13326009, 0.30064927])"
      ]
     },
     "execution_count": 10,
     "metadata": {},
     "output_type": "execute_result"
    }
   ],
   "source": [
    "BB.action_values\n",
    "# p behind the binomial bandit"
   ]
  },
  {
   "cell_type": "code",
   "execution_count": 11,
   "metadata": {},
   "outputs": [
    {
     "data": {
      "text/plain": [
       "array([60, 74, 26, 73, 73, 17,  0, 98,  9, 33])"
      ]
     },
     "execution_count": 11,
     "metadata": {},
     "output_type": "execute_result"
    }
   ],
   "source": [
    "BB.sample\n",
    "# simulated result according to  above p"
   ]
  },
  {
   "cell_type": "code",
   "execution_count": 12,
   "metadata": {},
   "outputs": [
    {
     "data": {
      "text/plain": [
       "(73, False)"
      ]
     },
     "execution_count": 12,
     "metadata": {},
     "output_type": "execute_result"
    }
   ],
   "source": [
    "BB.pull(1) # when you pull binomial bandit \n",
    "# it produce simulated result over N trial"
   ]
  },
  {
   "cell_type": "code",
   "execution_count": 13,
   "metadata": {},
   "outputs": [
    {
     "name": "stdout",
     "output_type": "stream",
     "text": [
      "[15.59065603]\n"
     ]
    }
   ],
   "source": [
    "print(np.random.uniform(size=1)*100)"
   ]
  },
  {
   "cell_type": "code",
   "execution_count": 14,
   "metadata": {},
   "outputs": [],
   "source": [
    "PB = bd.PowerBandit(1)"
   ]
  },
  {
   "cell_type": "code",
   "execution_count": 15,
   "metadata": {},
   "outputs": [],
   "source": [
    "n_trial = 10\n",
    "result = []\n",
    "for trial in range(n_trial):\n",
    "    result.append(PB.pull())"
   ]
  },
  {
   "cell_type": "code",
   "execution_count": 16,
   "metadata": {},
   "outputs": [
    {
     "data": {
      "text/plain": [
       "-6"
      ]
     },
     "execution_count": 16,
     "metadata": {},
     "output_type": "execute_result"
    }
   ],
   "source": [
    "result = np.array(result)\n",
    "result.sum()"
   ]
  },
  {
   "cell_type": "code",
   "execution_count": 17,
   "metadata": {},
   "outputs": [
    {
     "data": {
      "text/plain": [
       "(array([0., 0., 0., 0., 0.]),\n",
       " array([   4,   10,   25,   50,  100, 1000]),\n",
       " <BarContainer object of 5 artists>)"
      ]
     },
     "execution_count": 17,
     "metadata": {},
     "output_type": "execute_result"
    },
    {
     "data": {
      "image/png": "[encoded data removed]",
      "text/plain": [
       "<Figure size 432x288 with 1 Axes>"
      ]
     },
     "metadata": {
      "needs_background": "light"
     },
     "output_type": "display_data"
    }
   ],
   "source": [
    "import matplotlib.pyplot as plt\n",
    "bin = np.array([4, 10, 25, 50, 100, 1000])\n",
    "plt.hist(result, bin)"
   ]
  },
  {
   "cell_type": "code",
   "execution_count": 18,
   "metadata": {},
   "outputs": [],
   "source": [
    "import env as env"
   ]
  },
  {
   "cell_type": "code",
   "execution_count": 19,
   "metadata": {},
   "outputs": [],
   "source": [
    "bm = env.BanditMaze()"
   ]
  },
  {
   "cell_type": "code",
   "execution_count": 20,
   "metadata": {},
   "outputs": [],
   "source": [
    "bm.reset()"
   ]
  },
  {
   "cell_type": "code",
   "execution_count": 21,
   "metadata": {},
   "outputs": [
    {
     "data": {
      "text/plain": [
       "[0, 1]"
      ]
     },
     "execution_count": 21,
     "metadata": {},
     "output_type": "execute_result"
    }
   ],
   "source": [
    "bm.all_positions"
   ]
  },
  {
   "cell_type": "code",
   "execution_count": 22,
   "metadata": {},
   "outputs": [],
   "source": [
    "import exp as exp"
   ]
  },
  {
   "cell_type": "code",
   "execution_count": 23,
   "metadata": {},
   "outputs": [
    {
     "name": "stderr",
     "output_type": "stream",
     "text": [
      "episodes: 100%|██████████| 1000/1000 [00:00<00:00, 14534.29it/s]\n"
     ]
    }
   ],
   "source": [
    "steps, rewards, Q = exp.QL(episodes=1000)"
   ]
  },
  {
   "cell_type": "code",
   "execution_count": 24,
   "metadata": {},
   "outputs": [
    {
     "name": "stdout",
     "output_type": "stream",
     "text": [
      "[10, 0, 0, 5, 1, 3, 4, 2, 0, 0, 7, 0, 4, 22, 0, 4, 5, 1, 1, 11, 23, 22, 9, 4, 0, 1, 11, 3, 26, 5, 20, 36, 13, 20, 52, 12, 13, 5, 8, 4, 0, 1, 7, 8, 3, 14, 18, 5, 2, 22, 29, 7, 19, 6, 1, 10, 1, 53, 36, 4, 100, 1, 10, 32, 6, 14, 20, 16, 16, 47, 42, 78, 9, 6, 19, 6, 15, 7, 4, 37, 16, 9, 2, 46, 0, 0, 0, 0, 0, 0, 0, 0, 0, 0, 0, 18, 10, 11, 7, 15, 6, 71, 6, 0, 0, 0, 0, 0, 0, 0, 1, 0, 0, 0, 0, 0, 0, 0, 0, 0, 0, 0, 0, 0, 1, 8, 0, 0, 0, 0, 0, 0, 1, 0, 0, 0, 0, 0, 0, 0, 0, 0, 0, 0, 0, 0, 0, 0, 0, 0, 0, 0, 0, 0, 0, 0, 0, 0, 13, 7, 4, 0, 0, 0, 4, 0, 0, 0, 0, 0, 0, 0, 0, 0, 0, 0, 0, 0, 0, 0, 0, 0, 0, 0, 0, 0, 0, 0, 0, 0, 0, 0, 0, 0, 0, 0, 0, 0, 0, 0, 0, 0, 0, 0, 1, 0, 2, 0, 0, 0, 0, 0, 0, 0, 0, 0, 0, 0, 0, 0, 0, 0, 2, 0, 0, 0, 0, 1, 0, 0, 0, 0, 0, 0, 0, 0, 0, 0, 0, 0, 0, 0, 0, 0, 0, 0, 0, 0, 0, 0, 0, 0, 0, 0, 0, 0, 0, 0, 0, 0, 0, 0, 0, 0, 0, 0, 0, 0, 0, 2, 0, 0, 0, 0, 0, 0, 0, 0, 0, 0, 0, 0, 0, 0, 0, 0, 0, 0, 0, 0, 0, 0, 0, 0, 0, 0, 0, 0, 0, 0, 0, 0, 0, 0, 0, 0, 0, 0, 0, 0, 0, 0, 0, 0, 0, 0, 0, 0, 0, 0, 0, 0, 0, 0, 0, 0, 0, 0, 0, 0, 0, 0, 0, 1, 0, 0, 0, 0, 0, 0, 0, 0, 0, 0, 0, 0, 0, 0, 0, 0, 0, 0, 0, 0, 0, 0, 0, 0, 0, 0, 0, 0, 0, 1, 0, 0, 0, 0, 0, 0, 0, 1, 0, 1, 0, 0, 0, 0, 0, 0, 0, 1, 0, 0, 0, 0, 0, 0, 0, 0, 0, 0, 0, 0, 0, 0, 0, 0, 0, 0, 0, 0, 0, 0, 0, 0, 0, 0, 0, 0, 0, 0, 0, 0, 0, 0, 0, 0, 0, 0, 0, 0, 0, 0, 0, 0, 0, 0, 1, 0, 0, 0, 0, 0, 0, 0, 0, 0, 0, 0, 0, 0, 0, 0, 0, 0, 0, 0, 0, 0, 0, 0, 0, 0, 0, 0, 0, 0, 0, 0, 1, 0, 0, 0, 0, 0, 0, 0, 0, 0, 0, 0, 0, 1, 0, 0, 0, 0, 0, 0, 0, 0, 0, 0, 0, 0, 0, 0, 0, 0, 0, 7, 0, 8, 1, 0, 0, 0, 0, 0]\n"
     ]
    }
   ],
   "source": [
    "print(steps[:500])"
   ]
  },
  {
   "cell_type": "code",
   "execution_count": 25,
   "metadata": {},
   "outputs": [
    {
     "name": "stdout",
     "output_type": "stream",
     "text": [
      "[-30, -20, -20, -21, -11, -23, -24, -22, -20, -20, -27, -20, -20, -34, -20, -24, -15, -21, -11, -19, -43, -24, -21, -24, -20, 4, -31, -23, -20, -17, -16, -44, -23, -32, -32, -24, -25, -25, 1, -16, -20, -21, -19, -28, -23, -22, -12, -25, -22, -38, -41, -23, -31, -18, -21, -30, -17, -24, -38, -24, 14, -21, -30, -16, -22, -8, -18, -32, -28, -29, -32, -11, -29, -26, -25, -16, -11, -27, -24, -31, -3, -25, -22, -38, -20, -20, -20, -20, -20, -20, -20, -20, -20, -20, -20, 13, -22, -23, -17, -27, -8, -50, -26, -20, -20, -20, -20, -20, -20, -20, -21, -20, -20, -20, -20, -20, -20, -20, -20, -20, -20, -20, -20, -20, -21, -18, -20, -20, -20, -20, -20, -20, -21, -20, -20, -20, -20, -20, -20, -20, -20, -20, -20, -20, -20, -20, -20, -20, -20, -20, -20, -20, -20, -20, -20, -20, -20, -20, -17, -23, -20, -20, -20, -20, -20, -20, -20, -20, -20, -20, -20, -20, -20, -20, -20, -20, -20, -20, -20, -20, -20, -20, -20, -20, -20, -20, -20, -20, -20, -20, -20, -20, -20, -20, -20, -20, -20, -20, -20, -20, -20, -20, -20, -20, -21, -20, -22, -20, -20, -20, -20, -20, -20, -20, -20, -20, -20, -20, -20, -20, -20, -20, -18, -20, -20, -20, -20, -21, -20, -20, -20, -20, -20, -20, -20, -20, -20, -20, -20, -20, -20, -20, -20, -20, -20, -20, -20, -20, -20, -20, -20, -20, -20, -20, -20, -20, -20, -20, -20, -20, -20, -20, -20, -20, -20, -20, -20, -20, -20, -22, -20, -20, -20, -20, -20, -20, -20, -20, -20, -20, -20, -20, -20, -20, -20, -20, -20, -20, -20, -20, -20, -20, -20, -20, -20, -20, -20, -20, -20, -20, -20, -20, -20, -20, -20, -20, -20, -20, -20, -20, -20, -20, -20, -20, -20, -20, -20, -20, -20, -20, -20, -20, -20, -20, -20, -20, -20, -20, -20, -20, -20, -20, -20, -21, -20, -20, -20, -20, -20, -20, -20, -20, -20, -20, -20, -20, -20, -20, -20, -20, -20, -20, -20, -20, -20, -20, -20, -20, -20, -20, -20, -20, -20, -21, -20, -20, -20, -20, -20, -20, -20, -21, -20, -21, -20, -20, -20, -20, -20, -20, -20, -21, -20, -20, -20, -20, -20, -20, -20, -20, -20, -20, -20, -20, -20, -20, -20, -20, -20, -20, -20, -20, -20, -20, -20, -20, -20, -20, -20, -20, -20, -20, -20, -20, -20, -20, -20, -20, -20, -20, -20, -20, -20, -20, -20, -20, -20, -20, -17, -20, -20, -20, -20, -20, -20, -20, -20, -20, -20, -20, -20, -20, -20, -20, -20, -20, -20, -20, -20, -20, -20, -20, -20, -20, -20, -20, -20, -20, -20, -20, -21, -20, -20, -20, -20, -20, -20, -20, -20, -20, -20, -20, -20, -21, -20, -20, -20, -20, -20, -20, -20, -20, -20, -20, -20, -20, -20, -20, -20, -20, -20, -9, -20, -28, -21, -20, -20, -20, -20, -20]\n"
     ]
    }
   ],
   "source": [
    "print(rewards[:500])"
   ]
  },
  {
   "cell_type": "code",
   "execution_count": 26,
   "metadata": {},
   "outputs": [
    {
     "name": "stdout",
     "output_type": "stream",
     "text": [
      "[array([[  0.        ,   0.        ],\n",
      "       [-19.90723205, -12.45132156]]), array([[  0.        ,   0.        ],\n",
      "       [-19.91650884, -12.75132156]]), array([[  0.        ,   0.        ],\n",
      "       [-19.92485796, -13.85132156]]), array([[  0.        ,   0.        ],\n",
      "       [-19.93237216, -13.65132156]]), array([[  0.        ,   0.        ],\n",
      "       [-19.93913495, -13.75132156]]), array([[  0.        ,   0.        ],\n",
      "       [-19.94522145, -14.75132156]]), array([[  0.        ,   0.        ],\n",
      "       [-19.95069931, -14.45132156]]), array([[  0.        ,   0.        ],\n",
      "       [-19.95562938, -14.85132156]]), array([[  0.        ,   0.        ],\n",
      "       [-19.96006644, -16.65132156]]), array([[  0.        ,   0.        ],\n",
      "       [-19.96405979, -17.05132156]]), array([[  0.        ,   0.        ],\n",
      "       [-19.96765381, -13.65132156]]), array([[  0.        ,   0.        ],\n",
      "       [-19.97088843, -13.75132156]]), array([[  0.        ,   0.        ],\n",
      "       [-19.97379959, -14.75132156]]), array([[  0.        ,   0.        ],\n",
      "       [-19.97641963, -14.35132156]]), array([[  0.        ,   0.        ],\n",
      "       [-19.97877767, -14.55132156]]), array([[  0.        ,   0.        ],\n",
      "       [-19.9808999 , -13.35132156]]), array([[  0.        ,   0.        ],\n",
      "       [-19.98280991, -13.15132156]]), array([[  0.        ,   0.        ],\n",
      "       [-19.98452892, -14.35132156]]), array([[  0.        ,   0.        ],\n",
      "       [-19.98607603, -15.15132156]]), array([[  0.        ,   0.        ],\n",
      "       [-19.98746843, -16.05132156]]), array([[  0.        ,   0.        ],\n",
      "       [-19.98872158, -17.25132156]]), array([[  0.        ,   0.        ],\n",
      "       [-19.98984942, -16.35132156]]), array([[  0.        ,   0.        ],\n",
      "       [-19.99086448, -17.25132156]]), array([[  0.        ,   0.        ],\n",
      "       [-19.99177803, -17.85132156]]), array([[  0.        ,   0.        ],\n",
      "       [-19.99260023, -18.35132156]]), array([[  0.        ,   0.        ],\n",
      "       [-19.99334021, -17.95132156]]), array([[  0.        ,   0.        ],\n",
      "       [-19.99400619, -17.05132156]]), array([[  0.        ,   0.        ],\n",
      "       [-19.99460557, -17.75132156]]), array([[  0.        ,   0.        ],\n",
      "       [-19.99514501, -18.15132156]]), array([[  0.        ,   0.        ],\n",
      "       [-19.99563051, -19.25132156]]), array([[  0.        ,   0.        ],\n",
      "       [-19.99606746, -17.55132156]]), array([[  0.        ,   0.        ],\n",
      "       [-19.99646071, -18.05132156]]), array([[  0.        ,   0.        ],\n",
      "       [-19.99681464, -18.25132156]]), array([[  0.        ,   0.        ],\n",
      "       [-19.99713318, -20.05132156]]), array([[  0.        ,   0.        ],\n",
      "       [-19.99741986, -20.05132156]]), array([[  0.        ,   0.        ],\n",
      "       [-19.99767787, -20.05132156]]), array([[  0.        ,   0.        ],\n",
      "       [-19.99791009, -20.05132156]]), array([[  0.        ,   0.        ],\n",
      "       [-19.99811908, -20.05132156]]), array([[  0.        ,   0.        ],\n",
      "       [-19.99830717, -20.05132156]]), array([[  0.        ,   0.        ],\n",
      "       [-19.99847645, -20.05132156]]), array([[  0.        ,   0.        ],\n",
      "       [-19.99862881, -20.05132156]]), array([[  0.        ,   0.        ],\n",
      "       [-19.99876593, -20.05132156]]), array([[  0.        ,   0.        ],\n",
      "       [-19.99888933, -20.05132156]]), array([[  0.        ,   0.        ],\n",
      "       [-19.9990004 , -20.05132156]]), array([[  0.        ,   0.        ],\n",
      "       [-19.99910036, -20.05132156]]), array([[  0.        ,   0.        ],\n",
      "       [-19.99919032, -16.74609944]]), array([[  0.        ,   0.        ],\n",
      "       [-19.99927129, -16.94609944]]), array([[  0.        ,   0.        ],\n",
      "       [-19.99934416, -17.24609944]]), array([[  0.        ,   0.        ],\n",
      "       [-19.99940975, -16.94609944]]), array([[  0.        ,   0.        ],\n",
      "       [-19.99946877, -17.64609944]])]\n"
     ]
    }
   ],
   "source": [
    "print(Q[50:100])"
   ]
  }
 ],
 "metadata": {
  "interpreter": {
   "hash": "1b404ea9cc11fb42e02ae2837a6795607dec294b758acd70070f5a7ed62eaa6c"
  },
  "kernelspec": {
   "display_name": "Python 3.9.6 64-bit ('bayes': conda)",
   "language": "python",
   "name": "python3"
  },
  "language_info": {
   "codemirror_mode": {
    "name": "ipython",
    "version": 3
   },
   "file_extension": ".py",
   "mimetype": "text/x-python",
   "name": "python",
   "nbconvert_exporter": "python",
   "pygments_lexer": "ipython3",
   "version": "3.9.6"
  },
  "orig_nbformat": 4
 },
 "nbformat": 4,
 "nbformat_minor": 2
}
